{
 "cells": [
  {
   "cell_type": "markdown",
   "id": "210950d2",
   "metadata": {},
   "source": [
    "15. Data in Time: Processes and Concurrency"
   ]
  },
  {
   "cell_type": "code",
   "execution_count": 54,
   "id": "27c1baeb",
   "metadata": {},
   "outputs": [
    {
     "name": "stdout",
     "output_type": "stream",
     "text": [
      "wait 0.35752844658325733 seconds, time is 2022-12-04 15:45:13.904533\n",
      "wait 0.29412380377284086 seconds, time is 2022-12-04 15:45:14.223533\n",
      "wait 0.8830327654131103 seconds, time is 2022-12-04 15:45:15.121535\n"
     ]
    }
   ],
   "source": [
    "import multiprocessing\n",
    "\n",
    "def now(seconds):\n",
    "    from datetime import datetime\n",
    "    from time import sleep\n",
    "    sleep(seconds)\n",
    "    print('wait', seconds, 'seconds, time is', datetime.utcnow())\n",
    "\n",
    "if __name__ == '__main__':\n",
    "    import random\n",
    "    run_time=3\n",
    "    for n in range(run_time):\n",
    "        seconds = random.random()\n",
    "        proc = multiprocessing.Process(target=now, args=(seconds,))\n",
    "        proc.start()"
   ]
  },
  {
   "cell_type": "code",
   "execution_count": null,
   "id": "f56c2803",
   "metadata": {},
   "outputs": [],
   "source": []
  }
 ],
 "metadata": {
  "kernelspec": {
   "display_name": "Python 3 (ipykernel)",
   "language": "python",
   "name": "python3"
  },
  "language_info": {
   "codemirror_mode": {
    "name": "ipython",
    "version": 3
   },
   "file_extension": ".py",
   "mimetype": "text/x-python",
   "name": "python",
   "nbconvert_exporter": "python",
   "pygments_lexer": "ipython3",
   "version": "3.9.13"
  }
 },
 "nbformat": 4,
 "nbformat_minor": 5
}
