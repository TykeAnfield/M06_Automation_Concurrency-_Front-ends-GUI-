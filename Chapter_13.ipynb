{
 "cells": [
  {
   "cell_type": "markdown",
   "id": "6636060a",
   "metadata": {},
   "source": [
    "13.1 Write the current date as a string to the text file today.txt."
   ]
  },
  {
   "cell_type": "code",
   "execution_count": 85,
   "id": "1403d707",
   "metadata": {},
   "outputs": [],
   "source": [
    "from datetime import date\n",
    "today = date.today()\n",
    "today_str = now.isoformat()\n",
    "with open('today.txt', 'wt') as output:\n",
    "    print(today_str, file=output)"
   ]
  },
  {
   "cell_type": "markdown",
   "id": "ed1bad9c",
   "metadata": {},
   "source": [
    "13.2 Read the text file today.txt into the string today_string."
   ]
  },
  {
   "cell_type": "code",
   "execution_count": 86,
   "id": "5b2a2b98",
   "metadata": {},
   "outputs": [
    {
     "data": {
      "text/plain": [
       "'2022-12-03\\n'"
      ]
     },
     "execution_count": 86,
     "metadata": {},
     "output_type": "execute_result"
    }
   ],
   "source": [
    "with open('today.txt', 'rt') as input:\n",
    "    today_string = input.read()\n",
    "    \n",
    "today_string"
   ]
  },
  {
   "cell_type": "markdown",
   "id": "00c53ee0",
   "metadata": {},
   "source": [
    "13.3 Parse the date from today_string."
   ]
  },
  {
   "cell_type": "code",
   "execution_count": 87,
   "id": "011e7cf8",
   "metadata": {},
   "outputs": [
    {
     "data": {
      "text/plain": [
       "datetime.datetime(2022, 12, 3, 0, 0)"
      ]
     },
     "execution_count": 87,
     "metadata": {},
     "output_type": "execute_result"
    }
   ],
   "source": [
    "fmt = '%Y-%m-%d\\n'\n",
    "datetime.datetime.strptime(today_string, fmt)"
   ]
  },
  {
   "cell_type": "code",
   "execution_count": null,
   "id": "69431ae2",
   "metadata": {},
   "outputs": [],
   "source": []
  }
 ],
 "metadata": {
  "kernelspec": {
   "display_name": "Python 3 (ipykernel)",
   "language": "python",
   "name": "python3"
  },
  "language_info": {
   "codemirror_mode": {
    "name": "ipython",
    "version": 3
   },
   "file_extension": ".py",
   "mimetype": "text/x-python",
   "name": "python",
   "nbconvert_exporter": "python",
   "pygments_lexer": "ipython3",
   "version": "3.9.13"
  }
 },
 "nbformat": 4,
 "nbformat_minor": 5
}
